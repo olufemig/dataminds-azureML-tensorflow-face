{
 "cells": [
  {
   "cell_type": "code",
   "execution_count": 1,
   "metadata": {},
   "outputs": [],
   "source": [
    "from azureml.core import Workspace, Experiment, Run\n",
    "import math, random, pickle, json\n",
    "from azureml.core.model import Model\n",
    "from azureml.core import Image\n",
    "from azureml.core.image import ContainerImage\n",
    "from azureml.core.webservice import AciWebservice, Webservice, AksWebservice\n",
    "import myImageLibrary\n",
    "import cv2\n",
    "import numpy as np\n",
    "import os"
   ]
  },
  {
   "cell_type": "markdown",
   "metadata": {},
   "source": [
    "##### 1 Setting the workspace from the config.json file and authenticating"
   ]
  },
  {
   "cell_type": "code",
   "execution_count": 4,
   "metadata": {
    "scrolled": true
   },
   "outputs": [
    {
     "name": "stdout",
     "output_type": "stream",
     "text": [
      "Found the config file in: C:\\Projects\\MachineLearning\\dataminds-session\\dataminds-session\\config.json\n"
     ]
    }
   ],
   "source": [
    "ws = Workspace.from_config()"
   ]
  },
  {
   "cell_type": "markdown",
   "metadata": {},
   "source": [
    "##### 2 Registering the model\n",
    "\n",
    "first fetch the model from a succesful previous run and save it in the working directory."
   ]
  },
  {
   "cell_type": "code",
   "execution_count": 5,
   "metadata": {},
   "outputs": [
    {
     "data": {
      "text/plain": [
       "<bound method Workspace.models of <azureml.core.workspace.Workspace object at 0x0000012443782D30>>"
      ]
     },
     "execution_count": 5,
     "metadata": {},
     "output_type": "execute_result"
    }
   ],
   "source": [
    "ws.models #list existing models in the workspace"
   ]
  },
  {
   "cell_type": "code",
   "execution_count": 6,
   "metadata": {},
   "outputs": [
    {
     "name": "stdout",
     "output_type": "stream",
     "text": [
      "Registering model facemodel\n"
     ]
    }
   ],
   "source": [
    "model = Model.register(ws, \"my_model.h5\",\"facemodel\", description = \"New facemodel, migrated to new Azure ML\")"
   ]
  },
  {
   "cell_type": "markdown",
   "metadata": {},
   "source": [
    "You should now see the model in your Workspace in the Azure Portal. If you uploaded a model with this name before, it will get an incremented version tag. "
   ]
  },
  {
   "cell_type": "markdown",
   "metadata": {},
   "source": [
    "##### 3 Creating an image with the model, dependencies and scoring script"
   ]
  },
  {
   "cell_type": "code",
   "execution_count": 33,
   "metadata": {},
   "outputs": [],
   "source": [
    "image_config = ContainerImage.image_configuration(execution_script = \"newAzureML_score.py\", \n",
    "                                    runtime = \"python\", \n",
    "                                    conda_file = \"aml_config/newAzureML_env.yml\")\n",
    "\n"
   ]
  },
  {
   "cell_type": "markdown",
   "metadata": {},
   "source": [
    "Note: if you update the files and run the cell below again with the same image name, the new image will appear in the portal in the Workspace with a different version tag."
   ]
  },
  {
   "cell_type": "code",
   "execution_count": 8,
   "metadata": {},
   "outputs": [
    {
     "name": "stdout",
     "output_type": "stream",
     "text": [
      "Creating image\n",
      "Running...........................................................\n",
      "SucceededImage creation operation finished for image faceimage:10, operation \"Succeeded\"\n"
     ]
    }
   ],
   "source": [
    "image = Image.create(ws,\"faceimage\",[model],image_config)\n",
    "\n",
    "image.wait_for_creation(show_output = True)"
   ]
  },
  {
   "cell_type": "markdown",
   "metadata": {},
   "source": [
    "image.wait_for_creation() is required here. Otherwise, if you proceed below to deploy the webservice from the image before it is fully created, it will raise an error saying that the image's creation state is not \"Succeeded\". The state will still be \"running\".\n",
    "\n",
    "If you don't wait_for_creation(), the image will eventually appear as \"Succeeded\" in the Azure portal, but its state will not be updated here (image.creation_state will still return \"running\"). You must then manually update it with image.update_creation_state().\n",
    "\n",
    "https://docs.microsoft.com/en-us/python/api/azureml-core/azureml.core.image(class)?view=azure-ml-py#update-creation-state"
   ]
  },
  {
   "cell_type": "code",
   "execution_count": 9,
   "metadata": {},
   "outputs": [
    {
     "data": {
      "text/plain": [
       "'Succeeded'"
      ]
     },
     "execution_count": 9,
     "metadata": {},
     "output_type": "execute_result"
    }
   ],
   "source": [
    "image.creation_state # 'succeeded'"
   ]
  },
  {
   "cell_type": "markdown",
   "metadata": {},
   "source": [
    "The image is now visible in your Workspace in the Azure portal"
   ]
  },
  {
   "cell_type": "markdown",
   "metadata": {},
   "source": [
    "\n",
    "##### 4 Deploying a service to Azure Container Instances (ACI)\n"
   ]
  },
  {
   "cell_type": "code",
   "execution_count": 34,
   "metadata": {},
   "outputs": [],
   "source": [
    "# aci_config = AciWebservice.deploy_configuration(cpu_cores = 1, memory_gb = 1) # \n",
    "# from experience, the deployment will fail with this configuration. We need a more powerful deployment configuration.\n",
    "\n",
    "aci_config = AciWebservice.deploy_configuration(cpu_cores = 2, memory_gb = 2)"
   ]
  },
  {
   "cell_type": "code",
   "execution_count": 17,
   "metadata": {},
   "outputs": [
    {
     "name": "stdout",
     "output_type": "stream",
     "text": [
      "Creating service\n",
      "Running..................................................\n",
      "SucceededACI service creation operation finished, operation \"Succeeded\"\n"
     ]
    }
   ],
   "source": [
    "service = Webservice.deploy_from_image(ws, \"faceservice\",image,\n",
    "                                      deployment_config = aci_config)\n",
    "\n",
    "service.wait_for_deployment(show_output = True)"
   ]
  },
  {
   "cell_type": "markdown",
   "metadata": {},
   "source": [
    "##### 5 Inference\n",
    "\n",
    "Loading an image, extracting the face, preprocessing and base64 encoding it, sending it to the service.\n",
    "\n",
    "code taken from callservice.py"
   ]
  },
  {
   "cell_type": "code",
   "execution_count": 26,
   "metadata": {},
   "outputs": [],
   "source": [
    "FACE_CASCADE = cv2.CascadeClassifier(\"haarcascade_frontalface_default.xml\")"
   ]
  },
  {
   "cell_type": "code",
   "execution_count": 36,
   "metadata": {},
   "outputs": [
    {
     "name": "stdout",
     "output_type": "stream",
     "text": [
      "{\"index\": \"0\"}\n"
     ]
    }
   ],
   "source": [
    "img_raw = cv2.imread(\"test_images/buscemi_test.jpg\")\n",
    "faces = myImageLibrary.extract_face(img_raw,FACE_CASCADE)\n",
    "if len(faces) == 0:\n",
    "    print(\"No face found. Try a different image\")\n",
    "else:\n",
    "    face = myImageLibrary.resize_crop(faces[0],96)\n",
    "    face = np.around(face/255.0, decimals = 12)    \n",
    "    img_base64 = myImageLibrary.preprocess(face)\n",
    "    person = service.run(img_base64)\n",
    "    print(person)"
   ]
  },
  {
   "cell_type": "markdown",
   "metadata": {},
   "source": [
    "Succes! When running the example with buscemi_test.jpg, the index should be 0. "
   ]
  },
  {
   "cell_type": "markdown",
   "metadata": {
    "collapsed": true
   },
   "source": [
    "##### 5 Deploying a service to AKS (TO DO)"
   ]
  },
  {
   "cell_type": "code",
   "execution_count": null,
   "metadata": {},
   "outputs": [],
   "source": [
    "from azureml.core import ComputerTarget"
   ]
  },
  {
   "cell_type": "code",
   "execution_count": null,
   "metadata": {},
   "outputs": [],
   "source": [
    "# configuring the AKS deployment\n",
    "aks_config = AksWebservicevice.deploy_configuration()"
   ]
  },
  {
   "cell_type": "code",
   "execution_count": null,
   "metadata": {},
   "outputs": [],
   "source": [
    "#configuring and provisioning a compute target. This was not required when deploying to ACI. \n",
    "prov_config = AksCompute.provisioning_configuration()\n",
    "aks_target = ComputeTarget.create(ws, \"first-aks-target\",provisioning_configuration=prov_config)\n",
    "\n",
    "# https://docs.microsoft.com/en-us/python/api/azureml-core/azureml.core.computetarget?view=azure-ml-py#create\n",
    "# https://docs.microsoft.com/en-us/azure/machine-learning/service/how-to-deploy-to-aks\n",
    "\n",
    "aks_target.wait_for_completion(show_output = True)\n",
    "print(aks_target.provisioning_state)\n",
    "print(aks_target.provisioning_errors)"
   ]
  },
  {
   "cell_type": "code",
   "execution_count": null,
   "metadata": {},
   "outputs": [],
   "source": [
    "service_aks = Webservice.deploy_from_image(ws, \"faceservice-aks\",image,\n",
    "                                      deployment_config = aks_config, deployment_target = aks_target)\n",
    "\n",
    "service_aks.wait_for_deployment(show_output = True)"
   ]
  },
  {
   "cell_type": "code",
   "execution_count": null,
   "metadata": {},
   "outputs": [],
   "source": [
    "service.run(img_base64)"
   ]
  }
 ],
 "metadata": {
  "kernelspec": {
   "display_name": "python3-64",
   "language": "python",
   "name": "python3-64"
  },
  "language_info": {
   "codemirror_mode": {
    "name": "ipython",
    "version": 3
   },
   "file_extension": ".py",
   "mimetype": "text/x-python",
   "name": "python",
   "nbconvert_exporter": "python",
   "pygments_lexer": "ipython3",
   "version": "3.6.2"
  }
 },
 "nbformat": 4,
 "nbformat_minor": 2
}

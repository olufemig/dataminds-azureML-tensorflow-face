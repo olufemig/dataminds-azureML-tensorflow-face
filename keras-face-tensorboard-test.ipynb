{
 "cells": [
  {
   "cell_type": "code",
   "execution_count": 1,
   "metadata": {},
   "outputs": [
    {
     "name": "stderr",
     "output_type": "stream",
     "text": [
      "Using TensorFlow backend.\n"
     ]
    }
   ],
   "source": [
    "import sys\n",
    "import os\n",
    "\n",
    "import tensorflow as tf\n",
    "import cv2\n",
    "import numpy as np\n",
    "import glob\n",
    "\n",
    "import myImageLibrary\n",
    "\n",
    "import keras\n",
    "from keras.models import load_model\n",
    "from keras import backend as K\n",
    "from keras.models import Sequential\n",
    "from keras.layers import Conv2D, ZeroPadding2D, Activation, Input, concatenate, Lambda, Dense\n",
    "from keras.models import Model\n",
    "\n",
    "import matplotlib.pyplot as plt\n",
    "\n",
    "from sklearn.metrics import confusion_matrix\n",
    "\n",
    "from sklearn.preprocessing import OneHotEncoder\n",
    "from sklearn.model_selection import train_test_split\n",
    "\n",
    "unknown = True\n",
    "EPOCHS = 5"
   ]
  },
  {
   "cell_type": "code",
   "execution_count": 2,
   "metadata": {
    "collapsed": true
   },
   "outputs": [],
   "source": [
    "SHARED_FOLDER = os.environ[\"AZUREML_NATIVE_SHARE_DIRECTORY\"]\n",
    "FACE_CASCADE = cv2.CascadeClassifier(\"C:/Users/gbaeke/AppData/Local/Programs/Python/Python35/Lib/site-packages/cv2/data/haarcascade_frontalface_default.xml\")\n",
    "PRETRAINED_WEIGHTS_PATH = os.path.join(SHARED_FOLDER,'dataminds','pretrained_weights.h5')\n",
    "\n",
    "def convert_to_one_hot(Y, C):\n",
    "    Y = np.eye(C)[Y.reshape(-1)].T\n",
    "    return Y\n",
    "\n",
    "def face_list_array(face_list):\n",
    "    shape = list(face_list[0].shape)\n",
    "    shape[:0] = [len(face_list)]\n",
    "    faces_array = np.concatenate(face_list).reshape(shape)\n",
    "    return faces_array"
   ]
  },
  {
   "cell_type": "code",
   "execution_count": 3,
   "metadata": {
    "collapsed": true
   },
   "outputs": [],
   "source": [
    "MODEL_PATH =  os.path.join(SHARED_FOLDER,'dataminds','facenet_nn4_small2_v7.h5') #path to facenet keras model"
   ]
  },
  {
   "cell_type": "code",
   "execution_count": 4,
   "metadata": {
    "collapsed": true
   },
   "outputs": [],
   "source": [
    "images_buscemi = myImageLibrary.get_images(os.path.join(SHARED_FOLDER,'dataminds','images','buscemi'))\n",
    "images_jennifer = myImageLibrary.get_images(os.path.join(SHARED_FOLDER,'dataminds','images','jennifer'))\n",
    "images_dicaprio = myImageLibrary.get_images(os.path.join(SHARED_FOLDER,'dataminds','images','dicaprio'))\n",
    "images_clooney = myImageLibrary.get_images(os.path.join(SHARED_FOLDER,'dataminds','images','clooney'))\n",
    "if unknown:\n",
    "    images_unknown = myImageLibrary.get_images(os.path.join(SHARED_FOLDER,'dataminds','images','unknown'))\n",
    "images_pieter = myImageLibrary.get_images(os.path.join(SHARED_FOLDER,'dataminds','images','pieter'))\n",
    "images_pieter = images_pieter + myImageLibrary.get_images(os.path.join(SHARED_FOLDER,'dataminds','images','pieter2'))\n"
   ]
  },
  {
   "cell_type": "code",
   "execution_count": 5,
   "metadata": {
    "scrolled": false
   },
   "outputs": [
    {
     "name": "stdout",
     "output_type": "stream",
     "text": [
      "Processing images...\n"
     ]
    },
    {
     "ename": "NameError",
     "evalue": "name 'images_pieter3' is not defined",
     "output_type": "error",
     "traceback": [
      "\u001b[1;31m---------------------------------------------------------------------------\u001b[0m",
      "\u001b[1;31mNameError\u001b[0m                                 Traceback (most recent call last)",
      "\u001b[1;32m<ipython-input-5-fbc9d68c5bed>\u001b[0m in \u001b[0;36m<module>\u001b[1;34m()\u001b[0m\n\u001b[0;32m      7\u001b[0m     \u001b[0mfaces_unknown\u001b[0m \u001b[1;33m=\u001b[0m \u001b[1;33m[\u001b[0m\u001b[0mnp\u001b[0m\u001b[1;33m.\u001b[0m\u001b[0maround\u001b[0m\u001b[1;33m(\u001b[0m\u001b[0mmyImageLibrary\u001b[0m\u001b[1;33m.\u001b[0m\u001b[0mresize_crop\u001b[0m\u001b[1;33m(\u001b[0m\u001b[0mimage\u001b[0m\u001b[1;33m,\u001b[0m\u001b[1;36m96\u001b[0m\u001b[1;33m)\u001b[0m\u001b[1;33m.\u001b[0m\u001b[0mtranspose\u001b[0m\u001b[1;33m(\u001b[0m\u001b[1;36m2\u001b[0m\u001b[1;33m,\u001b[0m\u001b[1;36m0\u001b[0m\u001b[1;33m,\u001b[0m\u001b[1;36m1\u001b[0m\u001b[1;33m)\u001b[0m\u001b[1;33m/\u001b[0m\u001b[1;36m255.0\u001b[0m\u001b[1;33m,\u001b[0m\u001b[0mdecimals\u001b[0m\u001b[1;33m=\u001b[0m\u001b[1;36m12\u001b[0m\u001b[1;33m)\u001b[0m \u001b[1;32mfor\u001b[0m \u001b[0mimage\u001b[0m \u001b[1;32min\u001b[0m \u001b[0mmyImageLibrary\u001b[0m\u001b[1;33m.\u001b[0m\u001b[0mextract_faces_bulk\u001b[0m\u001b[1;33m(\u001b[0m\u001b[0mimages_unknown\u001b[0m\u001b[1;33m,\u001b[0m\u001b[0mFACE_CASCADE\u001b[0m\u001b[1;33m)\u001b[0m\u001b[1;33m]\u001b[0m\u001b[1;33m\u001b[0m\u001b[0m\n\u001b[0;32m      8\u001b[0m \u001b[0mfaces_pieter\u001b[0m \u001b[1;33m=\u001b[0m \u001b[1;33m[\u001b[0m\u001b[0mnp\u001b[0m\u001b[1;33m.\u001b[0m\u001b[0maround\u001b[0m\u001b[1;33m(\u001b[0m\u001b[0mmyImageLibrary\u001b[0m\u001b[1;33m.\u001b[0m\u001b[0mresize_crop\u001b[0m\u001b[1;33m(\u001b[0m\u001b[0mimage\u001b[0m\u001b[1;33m,\u001b[0m\u001b[1;36m96\u001b[0m\u001b[1;33m)\u001b[0m\u001b[1;33m.\u001b[0m\u001b[0mtranspose\u001b[0m\u001b[1;33m(\u001b[0m\u001b[1;36m2\u001b[0m\u001b[1;33m,\u001b[0m\u001b[1;36m0\u001b[0m\u001b[1;33m,\u001b[0m\u001b[1;36m1\u001b[0m\u001b[1;33m)\u001b[0m\u001b[1;33m/\u001b[0m\u001b[1;36m255.0\u001b[0m\u001b[1;33m,\u001b[0m\u001b[0mdecimals\u001b[0m\u001b[1;33m=\u001b[0m\u001b[1;36m12\u001b[0m\u001b[1;33m)\u001b[0m \u001b[1;32mfor\u001b[0m \u001b[0mimage\u001b[0m \u001b[1;32min\u001b[0m \u001b[0mmyImageLibrary\u001b[0m\u001b[1;33m.\u001b[0m\u001b[0mextract_faces_bulk\u001b[0m\u001b[1;33m(\u001b[0m\u001b[0mimages_pieter\u001b[0m\u001b[1;33m,\u001b[0m\u001b[0mFACE_CASCADE\u001b[0m\u001b[1;33m)\u001b[0m\u001b[1;33m]\u001b[0m\u001b[1;33m\u001b[0m\u001b[0m\n\u001b[1;32m----> 9\u001b[1;33m \u001b[0mfaces_pieter3\u001b[0m \u001b[1;33m=\u001b[0m \u001b[1;33m[\u001b[0m\u001b[0mnp\u001b[0m\u001b[1;33m.\u001b[0m\u001b[0maround\u001b[0m\u001b[1;33m(\u001b[0m\u001b[0mmyImageLibrary\u001b[0m\u001b[1;33m.\u001b[0m\u001b[0mresize_crop\u001b[0m\u001b[1;33m(\u001b[0m\u001b[0mimage\u001b[0m\u001b[1;33m,\u001b[0m\u001b[1;36m96\u001b[0m\u001b[1;33m)\u001b[0m\u001b[1;33m.\u001b[0m\u001b[0mtranspose\u001b[0m\u001b[1;33m(\u001b[0m\u001b[1;36m2\u001b[0m\u001b[1;33m,\u001b[0m\u001b[1;36m0\u001b[0m\u001b[1;33m,\u001b[0m\u001b[1;36m1\u001b[0m\u001b[1;33m)\u001b[0m\u001b[1;33m/\u001b[0m\u001b[1;36m255.0\u001b[0m\u001b[1;33m,\u001b[0m\u001b[0mdecimals\u001b[0m\u001b[1;33m=\u001b[0m\u001b[1;36m12\u001b[0m\u001b[1;33m)\u001b[0m \u001b[1;32mfor\u001b[0m \u001b[0mimage\u001b[0m \u001b[1;32min\u001b[0m \u001b[0mmyImageLibrary\u001b[0m\u001b[1;33m.\u001b[0m\u001b[0mextract_faces_bulk\u001b[0m\u001b[1;33m(\u001b[0m\u001b[0mimages_pieter3\u001b[0m\u001b[1;33m,\u001b[0m\u001b[0mFACE_CASCADE\u001b[0m\u001b[1;33m)\u001b[0m\u001b[1;33m]\u001b[0m\u001b[1;33m\u001b[0m\u001b[0m\n\u001b[0m\u001b[0;32m     10\u001b[0m \u001b[0mprint\u001b[0m\u001b[1;33m(\u001b[0m\u001b[0mlen\u001b[0m\u001b[1;33m(\u001b[0m\u001b[0mfaces_buscemi\u001b[0m\u001b[1;33m)\u001b[0m\u001b[1;33m)\u001b[0m\u001b[1;33m\u001b[0m\u001b[0m\n\u001b[0;32m     11\u001b[0m \u001b[0mprint\u001b[0m\u001b[1;33m(\u001b[0m\u001b[0mlen\u001b[0m\u001b[1;33m(\u001b[0m\u001b[0mfaces_jennifer\u001b[0m\u001b[1;33m)\u001b[0m\u001b[1;33m)\u001b[0m\u001b[1;33m\u001b[0m\u001b[0m\n",
      "\u001b[1;31mNameError\u001b[0m: name 'images_pieter3' is not defined"
     ]
    }
   ],
   "source": [
    "print(\"Processing images...\")\n",
    "faces_buscemi = [np.around(myImageLibrary.resize_crop(image,96).transpose(2,0,1)/255.0,decimals=12) for image in myImageLibrary.extract_faces_bulk(images_buscemi,FACE_CASCADE)]\n",
    "faces_jennifer = [np.around(myImageLibrary.resize_crop(image,96).transpose(2,0,1)/255.0,decimals=12) for image in myImageLibrary.extract_faces_bulk(images_jennifer,FACE_CASCADE)]\n",
    "faces_dicaprio = [np.around(myImageLibrary.resize_crop(image,96).transpose(2,0,1)/255.0,decimals=12) for image in myImageLibrary.extract_faces_bulk(images_dicaprio,FACE_CASCADE)]\n",
    "faces_clooney = [np.around(myImageLibrary.resize_crop(image,96).transpose(2,0,1)/255.0,decimals=12) for image in myImageLibrary.extract_faces_bulk(images_clooney,FACE_CASCADE)]\n",
    "if unknown:\n",
    "    faces_unknown = [np.around(myImageLibrary.resize_crop(image,96).transpose(2,0,1)/255.0,decimals=12) for image in myImageLibrary.extract_faces_bulk(images_unknown,FACE_CASCADE)]\n",
    "faces_pieter = [np.around(myImageLibrary.resize_crop(image,96).transpose(2,0,1)/255.0,decimals=12) for image in myImageLibrary.extract_faces_bulk(images_pieter,FACE_CASCADE)]\n",
    "faces_pieter3 = [np.around(myImageLibrary.resize_crop(image,96).transpose(2,0,1)/255.0,decimals=12) for image in myImageLibrary.extract_faces_bulk(images_pieter3,FACE_CASCADE)]\n",
    "print(len(faces_buscemi))\n",
    "print(len(faces_jennifer))\n",
    "print(len(faces_dicaprio))\n",
    "print(len(faces_clooney))\n",
    "if unknown:\n",
    "    print(len(faces_unknown))\n",
    "print(len(faces_pieter))\n",
    "\n",
    "faces_buscemi_array = face_list_array(faces_buscemi)\n",
    "faces_jennifer_array = face_list_array(faces_jennifer)\n",
    "faces_dicaprio_array = face_list_array(faces_dicaprio)\n",
    "faces_clooney_array = face_list_array(faces_clooney)\n",
    "if unknown:\n",
    "    faces_unknown_array = face_list_array(faces_unknown)\n",
    "faces_pieter_array = face_list_array(faces_pieter)\n"
   ]
  },
  {
   "cell_type": "code",
   "execution_count": null,
   "metadata": {},
   "outputs": [],
   "source": [
    "faces_softmax = np.concatenate((faces_buscemi_array,faces_clooney_array,faces_dicaprio_array,faces_jennifer_array,faces_pieter_array ))\n",
    "if unknown:\n",
    "    faces_softmax_all = np.concatenate((faces_softmax, faces_unknown_array))\n",
    "# array with \"_all\" in name contain also the unknown faces. In previous tries, these were excluded. \n",
    "y_softmax = np.array([0]*faces_buscemi_array.shape[0]+[1]*faces_clooney_array.shape[0]+[2]*faces_dicaprio_array.shape[0]+[3]*faces_jennifer_array.shape[0]+[4]*faces_pieter_array.shape[0])\n",
    "\n",
    "\n",
    "if unknown:\n",
    "    y_softmax_all = np.array(list(y_softmax) + [5] * faces_unknown_array.shape[0])\n",
    "    y_softmax_all_oh = convert_to_one_hot(y_softmax_all,6).T \n",
    "\n",
    "else:\n",
    "    y_softmax_oh = convert_to_one_hot(y_softmax,5).T\n",
    "\n",
    "\n",
    "\n",
    "\n",
    "if unknown:\n",
    "    X_train, X_test, Y_train, Y_test = train_test_split(faces_softmax_all,y_softmax_all_oh)\n",
    "else:\n",
    "    X_train, X_test, Y_train, Y_test = train_test_split(faces_softmax,y_softmax_oh)\n",
    "\n",
    "print(\"SHAPE: \",Y_test.shape)\n",
    "\n",
    "print(\"Loading facenet model...\")\n",
    "facemodel = load_model(MODEL_PATH)\n",
    "# this will also log a warning: no training configuration found in file. This file only contains the model, no weights and no training config. Weights are loaded\n",
    "# in the line below, training config will be set after the extra layer is added to the facenet network (see the SoftmaxModel() function; model.compile(..))\n",
    "facemodel.load_weights(PRETRAINED_WEIGHTS_PATH)"
   ]
  },
  {
   "cell_type": "code",
   "execution_count": null,
   "metadata": {
    "collapsed": true
   },
   "outputs": [],
   "source": [
    "def SoftmaxModel(facemodel,classes=5,input_shape=(3,96,96)):\n",
    "     \n",
    "    X_input = Input(input_shape)\n",
    "    encoding = facemodel(X_input)\n",
    "    X = Activation('relu')(encoding)\n",
    "    X = Dense(classes,activation='softmax')(X)    \n",
    "    model = Model(inputs=X_input,outputs=X)\n",
    "    model.compile(loss='categorical_crossentropy',optimizer='Adam',metrics=['accuracy'])\n",
    "    return model\n",
    "\n"
   ]
  },
  {
   "cell_type": "code",
   "execution_count": null,
   "metadata": {},
   "outputs": [],
   "source": [
    "print(\"Building classification model...\")\n",
    "if unknown:\n",
    "    softmaxmodel = SoftmaxModel(facemodel,classes=6)\n",
    "else:\n",
    "    softmaxmodel = SoftmaxModel(facemodel,classes=5)\n",
    "\n"
   ]
  },
  {
   "cell_type": "code",
   "execution_count": 30,
   "metadata": {},
   "outputs": [
    {
     "name": "stdout",
     "output_type": "stream",
     "text": [
      "Epoch 1/1\n",
      "277/277 [==============================] - 35s 126ms/step - loss: 1.5953 - acc: 0.6534\n"
     ]
    },
    {
     "data": {
      "text/plain": [
       "<keras.callbacks.History at 0x2da238dd400>"
      ]
     },
     "execution_count": 30,
     "metadata": {},
     "output_type": "execute_result"
    }
   ],
   "source": [
    "softmaxmodel.fit(x=X_train,y=Y_train,epochs=1)"
   ]
  },
  {
   "cell_type": "code",
   "execution_count": null,
   "metadata": {
    "collapsed": true
   },
   "outputs": [],
   "source": []
  }
 ],
 "metadata": {
  "kernelspec": {
   "display_name": "python352",
   "language": "python",
   "name": "python352"
  },
  "language_info": {
   "codemirror_mode": {
    "name": "ipython",
    "version": 3
   },
   "file_extension": ".py",
   "mimetype": "text/x-python",
   "name": "python",
   "nbconvert_exporter": "python",
   "pygments_lexer": "ipython3",
   "version": "3.5.2"
  }
 },
 "nbformat": 4,
 "nbformat_minor": 2
}
